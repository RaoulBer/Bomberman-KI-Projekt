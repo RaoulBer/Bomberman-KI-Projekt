{
 "cells": [
  {
   "cell_type": "markdown",
   "source": [
    "# Reason for this file: Find out how to ammend the game-features"
   ],
   "metadata": {
    "collapsed": false
   }
  },
  {
   "cell_type": "code",
   "execution_count": 60,
   "metadata": {
    "collapsed": true
   },
   "outputs": [],
   "source": [
    "import numpy as np\n",
    "import pickle\n",
    "from sklearn import model_selection\n",
    "import matplotlib.pyplot as plt\n",
    "\n",
    "with open(\"my-saved-data.pt\", \"rb\") as file:\n",
    "    data_sample = pickle.load(file)\n",
    "X_train, X_test, y_train, y_test = model_selection.train_test_split\\\n",
    "                                   (data_sample[:,:-1], data_sample[:,-1], test_size=.4, random_state=0)"
   ]
  },
  {
   "cell_type": "markdown",
   "source": [
    "First question: How bad are the rewards right now?"
   ],
   "metadata": {
    "collapsed": false
   }
  },
  {
   "cell_type": "code",
   "execution_count": 61,
   "outputs": [
    {
     "name": "stdout",
     "output_type": "stream",
     "text": [
      "148 126\n"
     ]
    },
    {
     "data": {
      "text/plain": "<Figure size 432x288 with 1 Axes>",
      "image/png": "[encoded data removed]"
     },
     "metadata": {
      "needs_background": "light"
     },
     "output_type": "display_data"
    }
   ],
   "source": [
    "plt.hist(np.sort(y_train[np.abs(y_train) < 5]))\n",
    "print(len(np.sort(y_train[np.abs(y_train) < 5])), len(np.sort(y_train[np.abs(y_train) >= 5]))) # Ausreißer-Verhältnis"
   ],
   "metadata": {
    "collapsed": false,
    "pycharm": {
     "name": "#%%\n"
    }
   }
  },
  {
   "cell_type": "code",
   "execution_count": 55,
   "outputs": [
    {
     "name": "stdout",
     "output_type": "stream",
     "text": [
      "5.235481078196057 6.8933085083423 -18.22957711240892 29.165404113224092\n",
      "-70.0 2000.0\n"
     ]
    },
    {
     "data": {
      "text/plain": "<Figure size 432x288 with 1 Axes>",
      "image/png": "[encoded data removed]"
     },
     "metadata": {
      "needs_background": "light"
     },
     "output_type": "display_data"
    }
   ],
   "source": [
    "# noinspection LanguageDetectionInspection\n",
    "plt.hist(np.sort(y_train))\n",
    "print(np.mean(y_train), np.std(y_train), np.min(data_sample[:,-1]), np.max(data_sample[:,-1]))\n",
    "print(np.min(data_sample), np.max(data_sample))"
   ],
   "metadata": {
    "collapsed": false,
    "pycharm": {
     "name": "#%%\n"
    }
   }
  },
  {
   "cell_type": "markdown",
   "source": [
    "First answer: Most of the features are in between (-5, 5). That is actually not so bad. Question: How are we to deal with the (few) outliers?\n",
    "\n",
    "Second question: Can we reduce matrix features?\n",
    "How do we deal with missing data? Where does it come from?"
   ],
   "metadata": {
    "collapsed": false
   }
  },
  {
   "cell_type": "code",
   "execution_count": 56,
   "outputs": [
    {
     "data": {
      "text/plain": "2000.0"
     },
     "execution_count": 56,
     "metadata": {},
     "output_type": "execute_result"
    }
   ],
   "source": [
    "X_mean = np.mean(X_train, axis = 0)\n",
    "X_std = np.std(X_train, axis = 0)\n",
    "X_centered = X_train - X_mean\n",
    "np.max(X_train)"
   ],
   "metadata": {
    "collapsed": false,
    "pycharm": {
     "name": "#%%\n"
    }
   }
  },
  {
   "cell_type": "code",
   "execution_count": 57,
   "outputs": [],
   "source": [
    "with open(\"game_setup.pt\", \"rb\") as file:\n",
    "    game_sample = pickle.load(file)"
   ],
   "metadata": {
    "collapsed": false,
    "pycharm": {
     "name": "#%%\n"
    }
   }
  },
  {
   "cell_type": "code",
   "execution_count": 58,
   "outputs": [
    {
     "name": "stdout",
     "output_type": "stream",
     "text": [
      "0\n",
      "[[-1 -1 -1 -1 -1 -1 -1 -1 -1 -1 -1 -1 -1 -1 -1 -1 -1]\n",
      " [-1  0  0  0  0  0  0  0  0  0  0  0  0  0  0  0 -1]\n",
      " [-1  0 -1  0 -1  0 -1  0 -1  0 -1  0 -1  0 -1  0 -1]\n",
      " [-1  0  0  0  0  0  0  0  0  0  0  0  0  0  0  0 -1]\n",
      " [-1  0 -1  0 -1  0 -1  0 -1  0 -1  0 -1  0 -1  0 -1]\n",
      " [-1  0  0  0  0  0  0  0  0  0  0  0  0  0  0  0 -1]\n",
      " [-1  0 -1  0 -1  0 -1  0 -1  0 -1  0 -1  0 -1  0 -1]\n",
      " [-1  0  0  0  0  0  0  0  0  0  0  0  0  0  0  0 -1]\n",
      " [-1  0 -1  0 -1  0 -1  0 -1  0 -1  0 -1  0 -1  0 -1]\n",
      " [-1  0  0  0  0  0  0  0  0  0  0  0  0  0  0  0 -1]\n",
      " [-1  0 -1  0 -1  0 -1  0 -1  0 -1  0 -1  0 -1  0 -1]\n",
      " [-1  0  0  0  0  0  0  0  0  0  0  0  0  0  0  0 -1]\n",
      " [-1  0 -1  0 -1  0 -1  0 -1  0 -1  0 -1  0 -1  0 -1]\n",
      " [-1  0  0  0  0  0  0  0  0  0  0  0  0  0  0  0 -1]\n",
      " [-1  0 -1  0 -1  0 -1  0 -1  0 -1  0 -1  0 -1  0 -1]\n",
      " [-1  0  0  0  0  0  0  0  0  0  0  0  0  0  0  0 -1]\n",
      " [-1 -1 -1 -1 -1 -1 -1 -1 -1 -1 -1 -1 -1 -1 -1 -1 -1]]\n"
     ]
    }
   ],
   "source": [
    "print(game_sample[\"field\"][1,3])\n",
    "print(game_sample[\"field\"].T)"
   ],
   "metadata": {
    "collapsed": false,
    "pycharm": {
     "name": "#%%\n"
    }
   }
  },
  {
   "cell_type": "code",
   "execution_count": 62,
   "outputs": [
    {
     "name": "stdout",
     "output_type": "stream",
     "text": [
      "51760\n"
     ]
    },
    {
     "data": {
      "text/plain": "<Figure size 432x288 with 1 Axes>",
      "image/png": "[encoded data removed]"
     },
     "metadata": {
      "needs_background": "light"
     },
     "output_type": "display_data"
    }
   ],
   "source": [
    "with open(\"rewards.pt\", \"rb\") as file:\n",
    "    re = pickle.load(file)\n",
    "\n",
    "length = len(re)\n",
    "plt.plot(range(length), re)\n",
    "print(length)"
   ],
   "metadata": {
    "collapsed": false,
    "pycharm": {
     "name": "#%%\n"
    }
   }
  },
  {
   "cell_type": "code",
   "execution_count": null,
   "outputs": [],
   "source": [],
   "metadata": {
    "collapsed": false,
    "pycharm": {
     "name": "#%%\n"
    }
   }
  }
 ],
 "metadata": {
  "kernelspec": {
   "display_name": "Python 3",
   "language": "python",
   "name": "python3"
  },
  "language_info": {
   "codemirror_mode": {
    "name": "ipython",
    "version": 2
   },
   "file_extension": ".py",
   "mimetype": "text/x-python",
   "name": "python",
   "nbconvert_exporter": "python",
   "pygments_lexer": "ipython2",
   "version": "2.7.6"
  }
 },
 "nbformat": 4,
 "nbformat_minor": 0
}